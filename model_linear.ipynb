{
 "cells": [
  {
   "cell_type": "code",
   "execution_count": 2,
   "metadata": {},
   "outputs": [
    {
     "name": "stdout",
     "output_type": "stream",
     "text": [
      "Requirement already up-to-date: sklearn in c:\\users\\todds\\anaconda3\\envs\\pythonadv\\lib\\site-packages (0.0)\n",
      "Requirement already satisfied, skipping upgrade: scikit-learn in c:\\users\\todds\\anaconda3\\envs\\pythonadv\\lib\\site-packages (from sklearn) (0.23.1)\n",
      "Requirement already satisfied, skipping upgrade: joblib>=0.11 in c:\\users\\todds\\anaconda3\\envs\\pythonadv\\lib\\site-packages (from scikit-learn->sklearn) (0.15.1)\n",
      "Requirement already satisfied, skipping upgrade: scipy>=0.19.1 in c:\\users\\todds\\anaconda3\\envs\\pythonadv\\lib\\site-packages (from scikit-learn->sklearn) (1.5.0)\n",
      "Requirement already satisfied, skipping upgrade: threadpoolctl>=2.0.0 in c:\\users\\todds\\anaconda3\\envs\\pythonadv\\lib\\site-packages (from scikit-learn->sklearn) (2.1.0)\n",
      "Requirement already satisfied, skipping upgrade: numpy>=1.13.3 in c:\\users\\todds\\anaconda3\\envs\\pythonadv\\lib\\site-packages (from scikit-learn->sklearn) (1.18.5)\n"
     ]
    }
   ],
   "source": [
    "# Update sklearn to prevent version mismatches\n",
    "!pip install sklearn --upgrade"
   ]
  },
  {
   "cell_type": "code",
   "execution_count": 3,
   "metadata": {},
   "outputs": [
    {
     "name": "stdout",
     "output_type": "stream",
     "text": [
      "Requirement already satisfied: joblib in c:\\users\\todds\\anaconda3\\envs\\pythonadv\\lib\\site-packages (0.15.1)\n"
     ]
    }
   ],
   "source": [
    "# install joblib. This will be used to save your model. \n",
    "# Restart your kernel after installing \n",
    "!pip install joblib"
   ]
  },
  {
   "cell_type": "code",
   "execution_count": 4,
   "metadata": {},
   "outputs": [],
   "source": [
    "import pandas as pd"
   ]
  },
  {
   "cell_type": "markdown",
   "metadata": {},
   "source": [
    "# Read the CSV and Perform Basic Data Cleaning"
   ]
  },
  {
   "cell_type": "code",
   "execution_count": 5,
   "metadata": {},
   "outputs": [
    {
     "data": {
      "text/html": [
       "<div>\n",
       "<style scoped>\n",
       "    .dataframe tbody tr th:only-of-type {\n",
       "        vertical-align: middle;\n",
       "    }\n",
       "\n",
       "    .dataframe tbody tr th {\n",
       "        vertical-align: top;\n",
       "    }\n",
       "\n",
       "    .dataframe thead th {\n",
       "        text-align: right;\n",
       "    }\n",
       "</style>\n",
       "<table border=\"1\" class=\"dataframe\">\n",
       "  <thead>\n",
       "    <tr style=\"text-align: right;\">\n",
       "      <th></th>\n",
       "      <th>koi_disposition</th>\n",
       "      <th>koi_fpflag_nt</th>\n",
       "      <th>koi_fpflag_ss</th>\n",
       "      <th>koi_fpflag_co</th>\n",
       "      <th>koi_fpflag_ec</th>\n",
       "      <th>koi_period</th>\n",
       "      <th>koi_period_err1</th>\n",
       "      <th>koi_period_err2</th>\n",
       "      <th>koi_time0bk</th>\n",
       "      <th>koi_time0bk_err1</th>\n",
       "      <th>...</th>\n",
       "      <th>koi_steff_err2</th>\n",
       "      <th>koi_slogg</th>\n",
       "      <th>koi_slogg_err1</th>\n",
       "      <th>koi_slogg_err2</th>\n",
       "      <th>koi_srad</th>\n",
       "      <th>koi_srad_err1</th>\n",
       "      <th>koi_srad_err2</th>\n",
       "      <th>ra</th>\n",
       "      <th>dec</th>\n",
       "      <th>koi_kepmag</th>\n",
       "    </tr>\n",
       "  </thead>\n",
       "  <tbody>\n",
       "    <tr>\n",
       "      <th>0</th>\n",
       "      <td>CANDIDATE</td>\n",
       "      <td>0</td>\n",
       "      <td>0</td>\n",
       "      <td>0</td>\n",
       "      <td>0</td>\n",
       "      <td>0.259820</td>\n",
       "      <td>4.040000e-07</td>\n",
       "      <td>-4.040000e-07</td>\n",
       "      <td>131.850610</td>\n",
       "      <td>0.001370</td>\n",
       "      <td>...</td>\n",
       "      <td>-62</td>\n",
       "      <td>4.736</td>\n",
       "      <td>0.028</td>\n",
       "      <td>-0.035</td>\n",
       "      <td>0.526</td>\n",
       "      <td>0.035</td>\n",
       "      <td>-0.035</td>\n",
       "      <td>281.11646</td>\n",
       "      <td>43.282440</td>\n",
       "      <td>15.174</td>\n",
       "    </tr>\n",
       "    <tr>\n",
       "      <th>1</th>\n",
       "      <td>FALSE POSITIVE</td>\n",
       "      <td>0</td>\n",
       "      <td>1</td>\n",
       "      <td>0</td>\n",
       "      <td>0</td>\n",
       "      <td>0.299698</td>\n",
       "      <td>1.910000e-07</td>\n",
       "      <td>-1.910000e-07</td>\n",
       "      <td>132.017121</td>\n",
       "      <td>0.000528</td>\n",
       "      <td>...</td>\n",
       "      <td>-154</td>\n",
       "      <td>4.547</td>\n",
       "      <td>0.058</td>\n",
       "      <td>-0.071</td>\n",
       "      <td>0.782</td>\n",
       "      <td>0.090</td>\n",
       "      <td>-0.074</td>\n",
       "      <td>296.96381</td>\n",
       "      <td>50.745380</td>\n",
       "      <td>14.828</td>\n",
       "    </tr>\n",
       "    <tr>\n",
       "      <th>2</th>\n",
       "      <td>CANDIDATE</td>\n",
       "      <td>0</td>\n",
       "      <td>0</td>\n",
       "      <td>0</td>\n",
       "      <td>0</td>\n",
       "      <td>0.306702</td>\n",
       "      <td>7.190000e-07</td>\n",
       "      <td>-7.190000e-07</td>\n",
       "      <td>131.512160</td>\n",
       "      <td>0.002070</td>\n",
       "      <td>...</td>\n",
       "      <td>-184</td>\n",
       "      <td>4.512</td>\n",
       "      <td>0.095</td>\n",
       "      <td>-0.085</td>\n",
       "      <td>0.786</td>\n",
       "      <td>0.110</td>\n",
       "      <td>-0.099</td>\n",
       "      <td>289.82599</td>\n",
       "      <td>43.725231</td>\n",
       "      <td>15.229</td>\n",
       "    </tr>\n",
       "    <tr>\n",
       "      <th>3</th>\n",
       "      <td>FALSE POSITIVE</td>\n",
       "      <td>0</td>\n",
       "      <td>1</td>\n",
       "      <td>0</td>\n",
       "      <td>0</td>\n",
       "      <td>0.306938</td>\n",
       "      <td>3.330000e-07</td>\n",
       "      <td>-3.330000e-07</td>\n",
       "      <td>131.635518</td>\n",
       "      <td>0.000900</td>\n",
       "      <td>...</td>\n",
       "      <td>-138</td>\n",
       "      <td>4.580</td>\n",
       "      <td>0.044</td>\n",
       "      <td>-0.061</td>\n",
       "      <td>0.741</td>\n",
       "      <td>0.081</td>\n",
       "      <td>-0.066</td>\n",
       "      <td>287.73572</td>\n",
       "      <td>42.823421</td>\n",
       "      <td>14.409</td>\n",
       "    </tr>\n",
       "    <tr>\n",
       "      <th>4</th>\n",
       "      <td>FALSE POSITIVE</td>\n",
       "      <td>0</td>\n",
       "      <td>1</td>\n",
       "      <td>0</td>\n",
       "      <td>0</td>\n",
       "      <td>0.328687</td>\n",
       "      <td>4.620000e-07</td>\n",
       "      <td>-4.620000e-07</td>\n",
       "      <td>132.771460</td>\n",
       "      <td>0.001260</td>\n",
       "      <td>...</td>\n",
       "      <td>-160</td>\n",
       "      <td>4.535</td>\n",
       "      <td>0.048</td>\n",
       "      <td>-0.143</td>\n",
       "      <td>0.847</td>\n",
       "      <td>0.181</td>\n",
       "      <td>-0.077</td>\n",
       "      <td>288.41684</td>\n",
       "      <td>47.731091</td>\n",
       "      <td>15.316</td>\n",
       "    </tr>\n",
       "  </tbody>\n",
       "</table>\n",
       "<p>5 rows × 41 columns</p>\n",
       "</div>"
      ],
      "text/plain": [
       "  koi_disposition  koi_fpflag_nt  koi_fpflag_ss  koi_fpflag_co  koi_fpflag_ec  \\\n",
       "0       CANDIDATE              0              0              0              0   \n",
       "1  FALSE POSITIVE              0              1              0              0   \n",
       "2       CANDIDATE              0              0              0              0   \n",
       "3  FALSE POSITIVE              0              1              0              0   \n",
       "4  FALSE POSITIVE              0              1              0              0   \n",
       "\n",
       "   koi_period  koi_period_err1  koi_period_err2  koi_time0bk  \\\n",
       "0    0.259820     4.040000e-07    -4.040000e-07   131.850610   \n",
       "1    0.299698     1.910000e-07    -1.910000e-07   132.017121   \n",
       "2    0.306702     7.190000e-07    -7.190000e-07   131.512160   \n",
       "3    0.306938     3.330000e-07    -3.330000e-07   131.635518   \n",
       "4    0.328687     4.620000e-07    -4.620000e-07   132.771460   \n",
       "\n",
       "   koi_time0bk_err1  ...  koi_steff_err2  koi_slogg  koi_slogg_err1  \\\n",
       "0          0.001370  ...             -62      4.736           0.028   \n",
       "1          0.000528  ...            -154      4.547           0.058   \n",
       "2          0.002070  ...            -184      4.512           0.095   \n",
       "3          0.000900  ...            -138      4.580           0.044   \n",
       "4          0.001260  ...            -160      4.535           0.048   \n",
       "\n",
       "   koi_slogg_err2  koi_srad  koi_srad_err1  koi_srad_err2         ra  \\\n",
       "0          -0.035     0.526          0.035         -0.035  281.11646   \n",
       "1          -0.071     0.782          0.090         -0.074  296.96381   \n",
       "2          -0.085     0.786          0.110         -0.099  289.82599   \n",
       "3          -0.061     0.741          0.081         -0.066  287.73572   \n",
       "4          -0.143     0.847          0.181         -0.077  288.41684   \n",
       "\n",
       "         dec  koi_kepmag  \n",
       "0  43.282440      15.174  \n",
       "1  50.745380      14.828  \n",
       "2  43.725231      15.229  \n",
       "3  42.823421      14.409  \n",
       "4  47.731091      15.316  \n",
       "\n",
       "[5 rows x 41 columns]"
      ]
     },
     "execution_count": 5,
     "metadata": {},
     "output_type": "execute_result"
    }
   ],
   "source": [
    "df = pd.read_csv(\"exoplanet_data.csv\")\n",
    "# Drop the null columns where all values are null\n",
    "df = df.dropna(axis='columns', how='all')\n",
    "# Drop the null rows\n",
    "df = df.dropna()\n",
    "df.head()"
   ]
  },
  {
   "cell_type": "markdown",
   "metadata": {},
   "source": [
    "# Select your features (columns)"
   ]
  },
  {
   "cell_type": "code",
   "execution_count": 6,
   "metadata": {},
   "outputs": [
    {
     "data": {
      "text/html": [
       "<div>\n",
       "<style scoped>\n",
       "    .dataframe tbody tr th:only-of-type {\n",
       "        vertical-align: middle;\n",
       "    }\n",
       "\n",
       "    .dataframe tbody tr th {\n",
       "        vertical-align: top;\n",
       "    }\n",
       "\n",
       "    .dataframe thead th {\n",
       "        text-align: right;\n",
       "    }\n",
       "</style>\n",
       "<table border=\"1\" class=\"dataframe\">\n",
       "  <thead>\n",
       "    <tr style=\"text-align: right;\">\n",
       "      <th></th>\n",
       "      <th>koi_disposition</th>\n",
       "      <th>koi_fpflag_nt</th>\n",
       "      <th>koi_fpflag_ss</th>\n",
       "      <th>koi_fpflag_co</th>\n",
       "      <th>koi_fpflag_ec</th>\n",
       "      <th>koi_period</th>\n",
       "      <th>koi_period_err1</th>\n",
       "      <th>koi_period_err2</th>\n",
       "      <th>koi_time0bk</th>\n",
       "      <th>koi_time0bk_err1</th>\n",
       "      <th>...</th>\n",
       "      <th>koi_steff_err2</th>\n",
       "      <th>koi_slogg</th>\n",
       "      <th>koi_slogg_err1</th>\n",
       "      <th>koi_slogg_err2</th>\n",
       "      <th>koi_srad</th>\n",
       "      <th>koi_srad_err1</th>\n",
       "      <th>koi_srad_err2</th>\n",
       "      <th>ra</th>\n",
       "      <th>dec</th>\n",
       "      <th>koi_kepmag</th>\n",
       "    </tr>\n",
       "  </thead>\n",
       "  <tbody>\n",
       "    <tr>\n",
       "      <th>1</th>\n",
       "      <td>FALSE POSITIVE</td>\n",
       "      <td>0</td>\n",
       "      <td>1</td>\n",
       "      <td>0</td>\n",
       "      <td>0</td>\n",
       "      <td>0.299698</td>\n",
       "      <td>1.910000e-07</td>\n",
       "      <td>-1.910000e-07</td>\n",
       "      <td>132.017121</td>\n",
       "      <td>0.000528</td>\n",
       "      <td>...</td>\n",
       "      <td>-154</td>\n",
       "      <td>4.547</td>\n",
       "      <td>0.058</td>\n",
       "      <td>-0.071</td>\n",
       "      <td>0.782</td>\n",
       "      <td>0.090</td>\n",
       "      <td>-0.074</td>\n",
       "      <td>296.96381</td>\n",
       "      <td>50.745380</td>\n",
       "      <td>14.828</td>\n",
       "    </tr>\n",
       "    <tr>\n",
       "      <th>3</th>\n",
       "      <td>FALSE POSITIVE</td>\n",
       "      <td>0</td>\n",
       "      <td>1</td>\n",
       "      <td>0</td>\n",
       "      <td>0</td>\n",
       "      <td>0.306938</td>\n",
       "      <td>3.330000e-07</td>\n",
       "      <td>-3.330000e-07</td>\n",
       "      <td>131.635518</td>\n",
       "      <td>0.000900</td>\n",
       "      <td>...</td>\n",
       "      <td>-138</td>\n",
       "      <td>4.580</td>\n",
       "      <td>0.044</td>\n",
       "      <td>-0.061</td>\n",
       "      <td>0.741</td>\n",
       "      <td>0.081</td>\n",
       "      <td>-0.066</td>\n",
       "      <td>287.73572</td>\n",
       "      <td>42.823421</td>\n",
       "      <td>14.409</td>\n",
       "    </tr>\n",
       "    <tr>\n",
       "      <th>4</th>\n",
       "      <td>FALSE POSITIVE</td>\n",
       "      <td>0</td>\n",
       "      <td>1</td>\n",
       "      <td>0</td>\n",
       "      <td>0</td>\n",
       "      <td>0.328687</td>\n",
       "      <td>4.620000e-07</td>\n",
       "      <td>-4.620000e-07</td>\n",
       "      <td>132.771460</td>\n",
       "      <td>0.001260</td>\n",
       "      <td>...</td>\n",
       "      <td>-160</td>\n",
       "      <td>4.535</td>\n",
       "      <td>0.048</td>\n",
       "      <td>-0.143</td>\n",
       "      <td>0.847</td>\n",
       "      <td>0.181</td>\n",
       "      <td>-0.077</td>\n",
       "      <td>288.41684</td>\n",
       "      <td>47.731091</td>\n",
       "      <td>15.316</td>\n",
       "    </tr>\n",
       "    <tr>\n",
       "      <th>5</th>\n",
       "      <td>FALSE POSITIVE</td>\n",
       "      <td>0</td>\n",
       "      <td>1</td>\n",
       "      <td>0</td>\n",
       "      <td>0</td>\n",
       "      <td>0.339070</td>\n",
       "      <td>4.230000e-07</td>\n",
       "      <td>-4.230000e-07</td>\n",
       "      <td>131.869570</td>\n",
       "      <td>0.001050</td>\n",
       "      <td>...</td>\n",
       "      <td>-152</td>\n",
       "      <td>3.846</td>\n",
       "      <td>0.560</td>\n",
       "      <td>-0.140</td>\n",
       "      <td>2.183</td>\n",
       "      <td>0.496</td>\n",
       "      <td>-1.158</td>\n",
       "      <td>296.70190</td>\n",
       "      <td>42.508652</td>\n",
       "      <td>12.771</td>\n",
       "    </tr>\n",
       "    <tr>\n",
       "      <th>6</th>\n",
       "      <td>CONFIRMED</td>\n",
       "      <td>0</td>\n",
       "      <td>0</td>\n",
       "      <td>0</td>\n",
       "      <td>0</td>\n",
       "      <td>0.341842</td>\n",
       "      <td>2.280000e-07</td>\n",
       "      <td>-2.280000e-07</td>\n",
       "      <td>131.660336</td>\n",
       "      <td>0.000545</td>\n",
       "      <td>...</td>\n",
       "      <td>-136</td>\n",
       "      <td>4.601</td>\n",
       "      <td>0.030</td>\n",
       "      <td>-0.070</td>\n",
       "      <td>0.747</td>\n",
       "      <td>0.086</td>\n",
       "      <td>-0.058</td>\n",
       "      <td>285.41061</td>\n",
       "      <td>44.412209</td>\n",
       "      <td>14.915</td>\n",
       "    </tr>\n",
       "  </tbody>\n",
       "</table>\n",
       "<p>5 rows × 41 columns</p>\n",
       "</div>"
      ],
      "text/plain": [
       "  koi_disposition  koi_fpflag_nt  koi_fpflag_ss  koi_fpflag_co  koi_fpflag_ec  \\\n",
       "1  FALSE POSITIVE              0              1              0              0   \n",
       "3  FALSE POSITIVE              0              1              0              0   \n",
       "4  FALSE POSITIVE              0              1              0              0   \n",
       "5  FALSE POSITIVE              0              1              0              0   \n",
       "6       CONFIRMED              0              0              0              0   \n",
       "\n",
       "   koi_period  koi_period_err1  koi_period_err2  koi_time0bk  \\\n",
       "1    0.299698     1.910000e-07    -1.910000e-07   132.017121   \n",
       "3    0.306938     3.330000e-07    -3.330000e-07   131.635518   \n",
       "4    0.328687     4.620000e-07    -4.620000e-07   132.771460   \n",
       "5    0.339070     4.230000e-07    -4.230000e-07   131.869570   \n",
       "6    0.341842     2.280000e-07    -2.280000e-07   131.660336   \n",
       "\n",
       "   koi_time0bk_err1  ...  koi_steff_err2  koi_slogg  koi_slogg_err1  \\\n",
       "1          0.000528  ...            -154      4.547           0.058   \n",
       "3          0.000900  ...            -138      4.580           0.044   \n",
       "4          0.001260  ...            -160      4.535           0.048   \n",
       "5          0.001050  ...            -152      3.846           0.560   \n",
       "6          0.000545  ...            -136      4.601           0.030   \n",
       "\n",
       "   koi_slogg_err2  koi_srad  koi_srad_err1  koi_srad_err2         ra  \\\n",
       "1          -0.071     0.782          0.090         -0.074  296.96381   \n",
       "3          -0.061     0.741          0.081         -0.066  287.73572   \n",
       "4          -0.143     0.847          0.181         -0.077  288.41684   \n",
       "5          -0.140     2.183          0.496         -1.158  296.70190   \n",
       "6          -0.070     0.747          0.086         -0.058  285.41061   \n",
       "\n",
       "         dec  koi_kepmag  \n",
       "1  50.745380      14.828  \n",
       "3  42.823421      14.409  \n",
       "4  47.731091      15.316  \n",
       "5  42.508652      12.771  \n",
       "6  44.412209      14.915  \n",
       "\n",
       "[5 rows x 41 columns]"
      ]
     },
     "execution_count": 6,
     "metadata": {},
     "output_type": "execute_result"
    }
   ],
   "source": [
    "# NEW:  Dropping \"CANDIDATE\" values from disposition column to try running date only on confirmed of false postives\n",
    "drop_candidate = df[df['koi_disposition'] != \"CANDIDATE\"]\n",
    "drop_candidate.head()"
   ]
  },
  {
   "cell_type": "code",
   "execution_count": 7,
   "metadata": {},
   "outputs": [
    {
     "data": {
      "text/html": [
       "<div>\n",
       "<style scoped>\n",
       "    .dataframe tbody tr th:only-of-type {\n",
       "        vertical-align: middle;\n",
       "    }\n",
       "\n",
       "    .dataframe tbody tr th {\n",
       "        vertical-align: top;\n",
       "    }\n",
       "\n",
       "    .dataframe thead th {\n",
       "        text-align: right;\n",
       "    }\n",
       "</style>\n",
       "<table border=\"1\" class=\"dataframe\">\n",
       "  <thead>\n",
       "    <tr style=\"text-align: right;\">\n",
       "      <th></th>\n",
       "      <th>koi_disposition</th>\n",
       "      <th>koi_fpflag_nt</th>\n",
       "      <th>koi_fpflag_ss</th>\n",
       "      <th>koi_fpflag_co</th>\n",
       "      <th>koi_fpflag_ec</th>\n",
       "      <th>koi_period</th>\n",
       "      <th>koi_time0bk</th>\n",
       "      <th>koi_impact</th>\n",
       "      <th>koi_duration</th>\n",
       "      <th>koi_depth</th>\n",
       "      <th>...</th>\n",
       "      <th>koi_teq</th>\n",
       "      <th>koi_insol</th>\n",
       "      <th>koi_model_snr</th>\n",
       "      <th>koi_tce_plnt_num</th>\n",
       "      <th>koi_steff</th>\n",
       "      <th>koi_slogg</th>\n",
       "      <th>koi_srad</th>\n",
       "      <th>ra</th>\n",
       "      <th>dec</th>\n",
       "      <th>koi_kepmag</th>\n",
       "    </tr>\n",
       "  </thead>\n",
       "  <tbody>\n",
       "    <tr>\n",
       "      <th>1</th>\n",
       "      <td>FALSE POSITIVE</td>\n",
       "      <td>0</td>\n",
       "      <td>1</td>\n",
       "      <td>0</td>\n",
       "      <td>0</td>\n",
       "      <td>0.299698</td>\n",
       "      <td>132.017121</td>\n",
       "      <td>0.964</td>\n",
       "      <td>0.8473</td>\n",
       "      <td>346.9</td>\n",
       "      <td>...</td>\n",
       "      <td>2246</td>\n",
       "      <td>6005.79</td>\n",
       "      <td>53.6</td>\n",
       "      <td>1</td>\n",
       "      <td>5180</td>\n",
       "      <td>4.547</td>\n",
       "      <td>0.782</td>\n",
       "      <td>296.96381</td>\n",
       "      <td>50.745380</td>\n",
       "      <td>14.828</td>\n",
       "    </tr>\n",
       "    <tr>\n",
       "      <th>3</th>\n",
       "      <td>FALSE POSITIVE</td>\n",
       "      <td>0</td>\n",
       "      <td>1</td>\n",
       "      <td>0</td>\n",
       "      <td>0</td>\n",
       "      <td>0.306938</td>\n",
       "      <td>131.635518</td>\n",
       "      <td>0.005</td>\n",
       "      <td>0.5925</td>\n",
       "      <td>119.2</td>\n",
       "      <td>...</td>\n",
       "      <td>2142</td>\n",
       "      <td>5019.53</td>\n",
       "      <td>29.3</td>\n",
       "      <td>1</td>\n",
       "      <td>5088</td>\n",
       "      <td>4.580</td>\n",
       "      <td>0.741</td>\n",
       "      <td>287.73572</td>\n",
       "      <td>42.823421</td>\n",
       "      <td>14.409</td>\n",
       "    </tr>\n",
       "  </tbody>\n",
       "</table>\n",
       "<p>2 rows × 21 columns</p>\n",
       "</div>"
      ],
      "text/plain": [
       "  koi_disposition  koi_fpflag_nt  koi_fpflag_ss  koi_fpflag_co  koi_fpflag_ec  \\\n",
       "1  FALSE POSITIVE              0              1              0              0   \n",
       "3  FALSE POSITIVE              0              1              0              0   \n",
       "\n",
       "   koi_period  koi_time0bk  koi_impact  koi_duration  koi_depth  ...  koi_teq  \\\n",
       "1    0.299698   132.017121       0.964        0.8473      346.9  ...     2246   \n",
       "3    0.306938   131.635518       0.005        0.5925      119.2  ...     2142   \n",
       "\n",
       "   koi_insol  koi_model_snr  koi_tce_plnt_num  koi_steff  koi_slogg  koi_srad  \\\n",
       "1    6005.79           53.6                 1       5180      4.547     0.782   \n",
       "3    5019.53           29.3                 1       5088      4.580     0.741   \n",
       "\n",
       "          ra        dec  koi_kepmag  \n",
       "1  296.96381  50.745380      14.828  \n",
       "3  287.73572  42.823421      14.409  \n",
       "\n",
       "[2 rows x 21 columns]"
      ]
     },
     "execution_count": 7,
     "metadata": {},
     "output_type": "execute_result"
    }
   ],
   "source": [
    "# Further clean above by dropping error measurement columns\n",
    "drop_columns = ['koi_period_err1', 'koi_period_err2', 'koi_time0bk_err1', 'koi_time0bk_err2',\n",
    "                'koi_impact_err1', 'koi_impact_err2', 'koi_steff_err1', 'koi_steff_err2', \n",
    "                'koi_duration_err1', 'koi_duration_err2', 'koi_slogg_err1', 'koi_slogg_err2', \n",
    "                'koi_srad_err1', 'koi_srad_err2', 'koi_depth_err1', 'koi_depth_err2', 'koi_prad_err1', \n",
    "                'koi_prad_err2', 'koi_insol_err1', 'koi_insol_err2']\n",
    "\n",
    "# Check resulting table\n",
    "clean_df = drop_candidate.drop(drop_columns, axis=1)\n",
    "clean_df.head(2)"
   ]
  },
  {
   "cell_type": "code",
   "execution_count": 8,
   "metadata": {},
   "outputs": [
    {
     "name": "stdout",
     "output_type": "stream",
     "text": [
      "(5304, 20) (5304, 2)\n"
     ]
    }
   ],
   "source": [
    "# Assign X (data) and y (target); starting with full dataset\n",
    "\n",
    "X = clean_df.drop('koi_disposition', axis=1)\n",
    "y = clean_df['koi_disposition']\n",
    "\n",
    "\n",
    "# Binary code y-data using pd.get_dummies\n",
    "y = pd.get_dummies(y)\n",
    "\n",
    "# Confirm data shapes\n",
    "print(X.shape, y.shape)\n"
   ]
  },
  {
   "cell_type": "code",
   "execution_count": 9,
   "metadata": {},
   "outputs": [
    {
     "name": "stdout",
     "output_type": "stream",
     "text": [
      "(5304, 16) (5304, 8) (5304, 6) (5304, 3)\n"
     ]
    }
   ],
   "source": [
    "# Separeate features into their respective categories; run different \"X1, X2, ...\" scenarios through \n",
    "# the testing and training to identify best sets of data\n",
    "\n",
    "disposition_params = ['koi_fpflag_nt', 'koi_fpflag_ss', 'koi_fpflag_co', 'koi_fpflag_ec']\n",
    "transit_params = ['koi_period', 'koi_time0bk', 'koi_impact', 'koi_duration', 'koi_depth', 'koi_prad', \n",
    "                  'koi_teq', 'koi_insol']\n",
    "threshold_params = ['koi_model_snr', 'koi_tce_plnt_num']\n",
    "stellar_params = ['koi_steff', 'koi_slogg', 'koi_srad']\n",
    "kic_params = ['ra', 'dec', 'koi_kepmag']\n",
    "\n",
    "# Form smaller data sets by referencing previous \"X_\" dataset and dropping additional colunns\n",
    "X1 = X.drop(disposition_params, axis=1)\n",
    "X2 = X1.drop(transit_params, axis=1)\n",
    "X3 = X2.drop(threshold_params, axis=1)\n",
    "X4 = X3.drop(stellar_params, axis=1)\n",
    "print(X1.shape, X2.shape, X3.shape, X4.shape)\n"
   ]
  },
  {
   "cell_type": "code",
   "execution_count": 10,
   "metadata": {},
   "outputs": [
    {
     "data": {
      "text/plain": [
       "Index(['ra', 'dec', 'koi_kepmag'], dtype='object')"
      ]
     },
     "execution_count": 10,
     "metadata": {},
     "output_type": "execute_result"
    }
   ],
   "source": [
    "# Review column headers\n",
    "X4.columns"
   ]
  },
  {
   "cell_type": "code",
   "execution_count": 11,
   "metadata": {},
   "outputs": [],
   "source": [
    "# Split data into training and testing models\n",
    "\n",
    "from sklearn.model_selection import train_test_split\n",
    "\n",
    "X_train, X_test, y_train, y_test = train_test_split(X, y, random_state=1)"
   ]
  },
  {
   "cell_type": "code",
   "execution_count": 12,
   "metadata": {},
   "outputs": [
    {
     "data": {
      "text/plain": [
       "LinearRegression()"
      ]
     },
     "execution_count": 12,
     "metadata": {},
     "output_type": "execute_result"
    }
   ],
   "source": [
    "# Call the Logistic Regression Model\n",
    "\n",
    "from sklearn.linear_model import LinearRegression\n",
    "model = LinearRegression()\n",
    "model"
   ]
  },
  {
   "cell_type": "code",
   "execution_count": 13,
   "metadata": {},
   "outputs": [
    {
     "data": {
      "text/plain": [
       "LinearRegression()"
      ]
     },
     "execution_count": 13,
     "metadata": {},
     "output_type": "execute_result"
    }
   ],
   "source": [
    "# Fit the model\n",
    "\n",
    "model.fit(X_train, y_train)\n"
   ]
  },
  {
   "cell_type": "code",
   "execution_count": 14,
   "metadata": {},
   "outputs": [
    {
     "name": "stdout",
     "output_type": "stream",
     "text": [
      "Training Data Score: 0.7507894237307152\n",
      "Testing Data Score: 0.7309605744455857\n"
     ]
    }
   ],
   "source": [
    "# Validate the model using hte test data\n",
    "\n",
    "print(f\"Training Data Score: {model.score(X_train, y_train)}\")\n",
    "print(f\"Testing Data Score: {model.score(X_test, y_test)}\")"
   ]
  },
  {
   "cell_type": "code",
   "execution_count": 15,
   "metadata": {},
   "outputs": [
    {
     "name": "stdout",
     "output_type": "stream",
     "text": [
      "Data columms include: Index(['koi_fpflag_nt', 'koi_fpflag_ss', 'koi_fpflag_co', 'koi_fpflag_ec',\n",
      "       'koi_period', 'koi_time0bk', 'koi_impact', 'koi_duration', 'koi_depth',\n",
      "       'koi_prad', 'koi_teq', 'koi_insol', 'koi_model_snr', 'koi_tce_plnt_num',\n",
      "       'koi_steff', 'koi_slogg', 'koi_srad', 'ra', 'dec', 'koi_kepmag'],\n",
      "      dtype='object')\n",
      "Training Data Score: 0.7507894237307152\n",
      "Testing Data Score: 0.7309605744455857\n",
      "--------------------\n",
      "Data columms include: Index(['koi_period', 'koi_time0bk', 'koi_impact', 'koi_duration', 'koi_depth',\n",
      "       'koi_prad', 'koi_teq', 'koi_insol', 'koi_model_snr', 'koi_tce_plnt_num',\n",
      "       'koi_steff', 'koi_slogg', 'koi_srad', 'ra', 'dec', 'koi_kepmag'],\n",
      "      dtype='object')\n",
      "Training Data Score: 0.3141664569780041\n",
      "Testing Data Score: 0.2815802837867136\n",
      "--------------------\n",
      "Data columms include: Index(['koi_model_snr', 'koi_tce_plnt_num', 'koi_steff', 'koi_slogg',\n",
      "       'koi_srad', 'ra', 'dec', 'koi_kepmag'],\n",
      "      dtype='object')\n",
      "Training Data Score: 0.1806740030012164\n",
      "Testing Data Score: 0.16390924533240303\n",
      "--------------------\n",
      "Data columms include: Index(['koi_steff', 'koi_slogg', 'koi_srad', 'ra', 'dec', 'koi_kepmag'], dtype='object')\n",
      "Training Data Score: 0.11302077760764923\n",
      "Testing Data Score: 0.09558275769705366\n",
      "--------------------\n",
      "Data columms include: Index(['ra', 'dec', 'koi_kepmag'], dtype='object')\n",
      "Training Data Score: 0.055835636567250435\n",
      "Testing Data Score: 0.04304429617068428\n",
      "--------------------\n"
     ]
    }
   ],
   "source": [
    "# Loop through different scenarios to test data combinations:\n",
    "\n",
    "regress_set = [X, X1, X2, X3, X4]\n",
    "\n",
    "for item in regress_set:\n",
    "    X_train, X_test, y_train, y_test = train_test_split(item, y, random_state=1)\n",
    "    model.fit(X_train, y_train)\n",
    "    print(f\"Data columms include: {item.columns}\")\n",
    "    print(f\"Training Data Score: {model.score(X_train, y_train)}\")\n",
    "    print(f\"Testing Data Score: {model.score(X_test, y_test)}\")\n",
    "    print('--------------------')\n",
    "    "
   ]
  },
  {
   "cell_type": "code",
   "execution_count": 16,
   "metadata": {},
   "outputs": [
    {
     "name": "stdout",
     "output_type": "stream",
     "text": [
      "First 10 Predictions:   [[0.3622222  0.6377778 ]\n",
      " [0.25706129 0.74293871]\n",
      " [0.35188042 0.64811958]\n",
      " [0.50538432 0.49461568]\n",
      " [0.2390077  0.7609923 ]\n",
      " [0.21694875 0.78305125]\n",
      " [0.31748538 0.68251462]\n",
      " [0.2668863  0.7331137 ]\n",
      " [0.38577883 0.61422117]\n",
      " [0.24387941 0.75612059]]\n",
      "First 10 Actual labels:       CONFIRMED  FALSE POSITIVE\n",
      "5221          1               0\n",
      "5580          1               0\n",
      "5292          1               0\n",
      "4785          0               1\n",
      "3700          0               1\n",
      "6218          0               1\n",
      "6720          0               1\n",
      "5445          0               1\n",
      "2207          1               0\n",
      "1183          0               1\n"
     ]
    }
   ],
   "source": [
    "# Check predidcted against actual values\n",
    "\n",
    "predictions = model.predict(X_test)\n",
    "print(f\"First 10 Predictions:   {predictions[:10]}\")\n",
    "print(f\"First 10 Actual labels: {y_test[:10]}\")"
   ]
  },
  {
   "cell_type": "code",
   "execution_count": null,
   "metadata": {},
   "outputs": [],
   "source": []
  },
  {
   "cell_type": "code",
   "execution_count": null,
   "metadata": {},
   "outputs": [],
   "source": []
  },
  {
   "cell_type": "markdown",
   "metadata": {},
   "source": [
    "# Save the Model"
   ]
  },
  {
   "cell_type": "code",
   "execution_count": 17,
   "metadata": {},
   "outputs": [
    {
     "data": {
      "text/plain": [
       "['todd_schanzlin_linear_regresssion.sav']"
      ]
     },
     "execution_count": 17,
     "metadata": {},
     "output_type": "execute_result"
    }
   ],
   "source": [
    "# save your model by updating \"your_name\" with your name\n",
    "# and \"your_model\" with your model variable\n",
    "# be sure to turn this in to BCS\n",
    "# if joblib fails to import, try running the command to install in terminal/git-bash\n",
    "import joblib\n",
    "filename = 'todd_schanzlin_linear_regresssion.sav'\n",
    "joblib.dump(model, filename)"
   ]
  },
  {
   "cell_type": "code",
   "execution_count": null,
   "metadata": {},
   "outputs": [],
   "source": []
  }
 ],
 "metadata": {
  "kernel_info": {
   "name": "dev"
  },
  "kernelspec": {
   "display_name": "PythonAdv",
   "language": "python",
   "name": "pythonadv"
  },
  "language_info": {
   "codemirror_mode": {
    "name": "ipython",
    "version": 3
   },
   "file_extension": ".py",
   "mimetype": "text/x-python",
   "name": "python",
   "nbconvert_exporter": "python",
   "pygments_lexer": "ipython3",
   "version": "3.6.10"
  },
  "nteract": {
   "version": "0.12.3"
  }
 },
 "nbformat": 4,
 "nbformat_minor": 2
}
